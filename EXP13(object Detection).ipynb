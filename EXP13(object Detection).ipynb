{
 "cells": [
  {
   "cell_type": "code",
   "execution_count": 15,
   "id": "02afbf0d",
   "metadata": {},
   "outputs": [
    {
     "name": "stdout",
     "output_type": "stream",
     "text": [
      "Epoch 1/3\n",
      "\u001b[1m1563/1563\u001b[0m \u001b[32m━━━━━━━━━━━━━━━━━━━━\u001b[0m\u001b[37m\u001b[0m \u001b[1m555s\u001b[0m 345ms/step - classification_output_mean_io_u_14: 0.4500 - loss: 2.2533 - regression_output_mae: 2.3814 - val_classification_output_mean_io_u_14: 0.4500 - val_loss: 2.2919 - val_regression_output_mae: 2.4112\n",
      "Epoch 2/3\n",
      "\u001b[1m1563/1563\u001b[0m \u001b[32m━━━━━━━━━━━━━━━━━━━━\u001b[0m\u001b[37m\u001b[0m \u001b[1m540s\u001b[0m 346ms/step - classification_output_mean_io_u_14: 0.4500 - loss: 1.7105 - regression_output_mae: 1.8663 - val_classification_output_mean_io_u_14: 0.4500 - val_loss: 1.7751 - val_regression_output_mae: 1.9157\n",
      "Epoch 3/3\n",
      "\u001b[1m1563/1563\u001b[0m \u001b[32m━━━━━━━━━━━━━━━━━━━━\u001b[0m\u001b[37m\u001b[0m \u001b[1m542s\u001b[0m 347ms/step - classification_output_mean_io_u_14: 0.4500 - loss: 1.3973 - regression_output_mae: 1.5648 - val_classification_output_mean_io_u_14: 0.4500 - val_loss: 1.4551 - val_regression_output_mae: 1.6089\n",
      "\u001b[1m313/313\u001b[0m \u001b[32m━━━━━━━━━━━━━━━━━━━━\u001b[0m\u001b[37m\u001b[0m \u001b[1m13s\u001b[0m 41ms/step - classification_output_mean_io_u_14: 0.4500 - loss: 1.4523 - regression_output_mae: 1.6049\n",
      "\u001b[1m313/313\u001b[0m \u001b[32m━━━━━━━━━━━━━━━━━━━━\u001b[0m\u001b[37m\u001b[0m \u001b[1m14s\u001b[0m 41ms/step\n"
     ]
    }
   ],
   "source": [
    "import tensorflow as tf\n",
    "from tensorflow.keras import layers, Model\n",
    "from tensorflow.keras.applications import ResNet50\n",
    "from tensorflow.keras.losses import BinaryCrossentropy, Huber\n",
    "from tensorflow.keras.optimizers import Adam\n",
    "from tensorflow.keras.metrics import MeanIoU\n",
    "\n",
    "# Define the number of epochs\n",
    "epochs = 3\n",
    "\n",
    "\n",
    "# Load the CIFAR-10 dataset\n",
    "(train_images, train_labels), (test_images, test_labels) = tf.keras.datasets.cifar10.load_data()\n",
    "\n",
    "# Normalize pixel values to range [0, 1]\n",
    "train_images, test_images = train_images / 255.0, test_images / 255.0\n",
    "\n",
    "# Define the backbone ResNet50 model\n",
    "backbone = ResNet50(include_top=False, weights='imagenet', input_shape=(32, 32, 3))\n",
    "\n",
    "# Define classification and regression heads\n",
    "classification_head = layers.GlobalAveragePooling2D()(backbone.output)\n",
    "classification_head = layers.Dense(10, activation='softmax', name='classification_output')(classification_head)\n",
    "\n",
    "regression_head = layers.GlobalAveragePooling2D()(backbone.output)\n",
    "regression_head = layers.Dense(4, name='regression_output')(regression_head)\n",
    "\n",
    "# Combine backbone with classification and regression heads\n",
    "model = Model(inputs=backbone.input, outputs=[classification_head, regression_head])\n",
    "\n",
    "# Define loss functions\n",
    "classification_loss = BinaryCrossentropy()\n",
    "regression_loss = Huber()\n",
    "\n",
    "# Define metrics\n",
    "classification_metrics = [MeanIoU(num_classes=10)]\n",
    "regression_metrics = ['mae']\n",
    "\n",
    "# Define optimizer\n",
    "optimizer = Adam()\n",
    "\n",
    "# Compile the model\n",
    "model.compile(optimizer=optimizer, loss=[classification_loss, regression_loss], metrics=[classification_metrics, regression_metrics])\n",
    "\n",
    "# One-hot encode the target labels for classification\n",
    "num_classes = 10\n",
    "train_labels_categorical = tf.keras.utils.to_categorical(train_labels, num_classes=num_classes)\n",
    "test_labels_categorical = tf.keras.utils.to_categorical(test_labels, num_classes=num_classes)\n",
    "\n",
    "# Train the model\n",
    "model.fit(train_images, [train_labels_categorical, train_labels], epochs=epochs, validation_data=(test_images, [test_labels_categorical, test_labels]))\n",
    "\n",
    "# Evaluate the model\n",
    "results = model.evaluate(test_images, [test_labels_categorical, test_labels])\n",
    "\n",
    "# Make predictions\n",
    "predictions = model.predict(test_images)\n",
    "\n"
   ]
  },
  {
   "cell_type": "code",
   "execution_count": null,
   "id": "09c64725",
   "metadata": {},
   "outputs": [],
   "source": []
  }
 ],
 "metadata": {
  "kernelspec": {
   "display_name": "Python 3 (ipykernel)",
   "language": "python",
   "name": "python3"
  },
  "language_info": {
   "codemirror_mode": {
    "name": "ipython",
    "version": 3
   },
   "file_extension": ".py",
   "mimetype": "text/x-python",
   "name": "python",
   "nbconvert_exporter": "python",
   "pygments_lexer": "ipython3",
   "version": "3.11.5"
  }
 },
 "nbformat": 4,
 "nbformat_minor": 5
}

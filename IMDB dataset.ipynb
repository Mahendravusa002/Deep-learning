{
 "cells": [
  {
   "cell_type": "code",
   "execution_count": null,
   "id": "7f36494d",
   "metadata": {},
   "outputs": [],
   "source": []
  },
  {
   "cell_type": "code",
   "execution_count": null,
   "id": "2642656a",
   "metadata": {},
   "outputs": [],
   "source": [
    "\n"
   ]
  },
  {
   "cell_type": "code",
   "execution_count": 6,
   "id": "ddc283eb",
   "metadata": {},
   "outputs": [
    {
     "name": "stdout",
     "output_type": "stream",
     "text": [
      "Epoch 1/3\n",
      "313/313 [==============================] - 13s 39ms/step - loss: 0.4326 - accuracy: 0.7879 - val_loss: 0.3260 - val_accuracy: 0.8604\n",
      "Epoch 2/3\n",
      "313/313 [==============================] - 12s 38ms/step - loss: 0.2336 - accuracy: 0.9083 - val_loss: 0.3124 - val_accuracy: 0.8742\n",
      "Epoch 3/3\n",
      "313/313 [==============================] - 12s 38ms/step - loss: 0.1508 - accuracy: 0.9441 - val_loss: 0.3312 - val_accuracy: 0.8710\n",
      "782/782 [==============================] - 6s 8ms/step - loss: 0.3533 - accuracy: 0.8642\n",
      "GRU Model - Test Loss: 0.3533, Test Accuracy: 0.8642\n",
      "Epoch 1/3\n",
      "313/313 [==============================] - 14s 42ms/step - loss: 0.4029 - accuracy: 0.8143 - val_loss: 0.3091 - val_accuracy: 0.8714\n",
      "Epoch 2/3\n",
      "313/313 [==============================] - 13s 42ms/step - loss: 0.2156 - accuracy: 0.9160 - val_loss: 0.3555 - val_accuracy: 0.8720\n",
      "Epoch 3/3\n",
      "313/313 [==============================] - 13s 42ms/step - loss: 0.1581 - accuracy: 0.9414 - val_loss: 0.3478 - val_accuracy: 0.8704\n",
      "782/782 [==============================] - 7s 9ms/step - loss: 0.3647 - accuracy: 0.8622\n",
      "LSTM Model - Test Loss: 0.3647, Test Accuracy: 0.8622\n"
     ]
    }
   ],
   "source": [
    "import numpy as np\n",
    "from tensorflow.keras.datasets import imdb\n",
    "from tensorflow.keras.models import Sequential\n",
    "from tensorflow.keras.layers import Embedding, GRU, LSTM, Dense\n",
    "from tensorflow.keras.preprocessing.sequence import pad_sequences\n",
    "from tensorflow.keras.utils import to_categorical\n",
    "from sklearn.model_selection import train_test_split\n",
    "vocab_size = 10000\n",
    "max_len = 200\n",
    "(X_train, y_train), (X_test, y_test) = imdb.load_data(num_words=vocab_size)\n",
    "X_train = pad_sequences(X_train, maxlen=max_len)\n",
    "X_test = pad_sequences(X_test, maxlen=max_len)\n",
    "y_train = to_categorical(y_train, num_classes=2)\n",
    "y_test = to_categorical(y_test, num_classes=2)\n",
    "X_train, X_val, y_train, y_val = train_test_split(X_train, y_train, test_size=0.2, \n",
    "random_state=42)\n",
    "model_gru = Sequential()\n",
    "model_gru.add(Embedding(vocab_size, 128, input_length=max_len))\n",
    "model_gru.add(GRU(64))\n",
    "model_gru.add(Dense(2, activation='softmax'))\n",
    "model_gru.compile(optimizer='adam', loss='categorical_crossentropy', metrics=['accuracy'])\n",
    "model_gru.fit(X_train, y_train, validation_data=(X_val, y_val), epochs=3, batch_size=64)\n",
    "gru_loss, gru_accuracy = model_gru.evaluate(X_test, y_test)\n",
    "print(f\"GRU Model - Test Loss: {gru_loss:.4f}, Test Accuracy: {gru_accuracy:.4f}\")\n",
    "model_lstm = Sequential()\n",
    "model_lstm.add(Embedding(vocab_size, 128, input_length=max_len))\n",
    "model_lstm.add(LSTM(64))\n",
    "model_lstm.add(Dense(2, activation='softmax'))\n",
    "model_lstm.compile(optimizer='adam', loss='categorical_crossentropy', metrics=['accuracy'])\n",
    "model_lstm.fit(X_train, y_train, validation_data=(X_val, y_val), epochs=3, batch_size=64)\n",
    "lstm_loss, lstm_accuracy = model_lstm.evaluate(X_test, y_test)\n",
    "print(f\"LSTM Model - Test Loss: {lstm_loss:.4f}, Test Accuracy: {lstm_accuracy:.4f}\")\n"
   ]
  },
  {
   "cell_type": "code",
   "execution_count": null,
   "id": "7f8d3b77",
   "metadata": {},
   "outputs": [],
   "source": []
  }
 ],
 "metadata": {
  "kernelspec": {
   "display_name": "Python 3 (ipykernel)",
   "language": "python",
   "name": "python3"
  },
  "language_info": {
   "codemirror_mode": {
    "name": "ipython",
    "version": 3
   },
   "file_extension": ".py",
   "mimetype": "text/x-python",
   "name": "python",
   "nbconvert_exporter": "python",
   "pygments_lexer": "ipython3",
   "version": "3.11.5"
  }
 },
 "nbformat": 4,
 "nbformat_minor": 5
}

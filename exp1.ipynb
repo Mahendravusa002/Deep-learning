{
 "cells": [
  {
   "cell_type": "code",
   "execution_count": 10,
   "metadata": {
    "id": "iwns6cUiCHg2"
   },
   "outputs": [],
   "source": [
    "import cv2\n",
    "from google.colab.patches import cv2_imshow"
   ]
  },
  {
   "cell_type": "code",
   "execution_count": 1,
   "metadata": {
    "colab": {
     "base_uri": "https://localhost:8080/",
     "height": 1209
    },
    "id": "ystHf7CzCJvP",
    "outputId": "cf27781c-fa3b-4df1-9740-3c98374033dc"
   },
   "outputs": [],
   "source": [
    "import numpy as np\n",
    "def histogram_equalization(image_path):\n",
    "  img = cv2.imread(image_path, cv2.IMREAD_GRAYSCALE)\n",
    "  equalized = cv2.equalizeHist(img)\n",
    "  cv2_imshow(img)\n",
    "  cv2_imshow(equalized)\n",
    "  cv2.waitKey(0)\n",
    "  cv2.destroyAllWindows()\n",
    "# Example usage\n",
    "histogram_equalization(\"car.jpg\")"
   ]
  },
  {
   "cell_type": "code",
   "execution_count": 2,
   "metadata": {
    "colab": {
     "base_uri": "https://localhost:8080/",
     "height": 1209
    },
    "id": "mt0ByKXxDtv9",
    "outputId": "3d424e41-b24f-4826-dd4d-c845b9d825be"
   },
   "outputs": [],
   "source": [
    "\n",
    "def thresholding(image_path, threshold_value=128):\n",
    "  img = cv2.imread(image_path, cv2.IMREAD_GRAYSCALE)\n",
    "  _, thresholded = cv2.threshold(img, threshold_value, 255, cv2.THRESH_BINARY)\n",
    "  cv2_imshow(img)\n",
    "  cv2_imshow(thresholded)\n",
    "  cv2.waitKey(0)\n",
    "  #cv2.destroyAllWindows()\n",
    "# Example usage\n",
    "thresholding('car.jpg', threshold_value=128)"
   ]
  },
  {
   "cell_type": "code",
   "execution_count": 3,
   "metadata": {
    "colab": {
     "base_uri": "https://localhost:8080/",
     "height": 1209
    },
    "id": "12zn6YjNFw63",
    "outputId": "fdfe778b-3a6f-42ec-ea7b-9da190a88e8f"
   },
   "outputs": [],
   "source": [
    "def edge_detection(image_path):\n",
    "  img = cv2.imread(image_path, cv2.IMREAD_GRAYSCALE)\n",
    "  edges = cv2.Canny(img, 100, 200)\n",
    "  cv2_imshow(img)\n",
    "  cv2_imshow(edges)\n",
    "  cv2.waitKey(0)\n",
    "  cv2.destroyAllWindows()\n",
    "edge_detection('car.jpg')"
   ]
  },
  {
   "cell_type": "code",
   "execution_count": 4,
   "metadata": {
    "colab": {
     "base_uri": "https://localhost:8080/",
     "height": 1209
    },
    "id": "fHN96dgDGaSK",
    "outputId": "17b9a0f3-0aa1-4169-b993-804596a2fcaa"
   },
   "outputs": [],
   "source": [
    "def data_augmentation(image_path):\n",
    "  img = cv2.imread(image_path)\n",
    "  flipped = cv2.flip(img, 1)\n",
    "  cv2_imshow(img)\n",
    "  cv2_imshow(flipped)\n",
    "  cv2.waitKey(0)\n",
    "  cv2.destroyAllWindows()\n",
    "data_augmentation('car.jpg')"
   ]
  },
  {
   "cell_type": "code",
   "execution_count": 5,
   "metadata": {
    "colab": {
     "base_uri": "https://localhost:8080/",
     "height": 1209
    },
    "id": "DiAD8m70GmuN",
    "outputId": "0daee4d2-f470-456b-d99e-6a28daf3c63c"
   },
   "outputs": [],
   "source": [
    "def morphological_operations(image_path):\n",
    "  img = cv2.imread(image_path, cv2.IMREAD_GRAYSCALE)\n",
    "  # Example: Erosion\n",
    "  kernel = np.ones((5, 5), np.uint8)\n",
    "  erosion = cv2.erode(img, kernel, iterations=1)\n",
    "  cv2_imshow(img)\n",
    "  cv2_imshow(erosion)\n",
    "  cv2.waitKey(10)\n",
    "  cv2.destroyAllWindows()\n",
    "# Example usage\n",
    "morphological_operations('car.jpg')"
   ]
  },
  {
   "cell_type": "code",
   "execution_count": null,
   "metadata": {
    "id": "DJxUfeJWHNaX"
   },
   "outputs": [],
   "source": []
  }
 ],
 "metadata": {
  "colab": {
   "provenance": []
  },
  "kernelspec": {
   "display_name": "Python 3 (ipykernel)",
   "language": "python",
   "name": "python3"
  },
  "language_info": {
   "codemirror_mode": {
    "name": "ipython",
    "version": 3
   },
   "file_extension": ".py",
   "mimetype": "text/x-python",
   "name": "python",
   "nbconvert_exporter": "python",
   "pygments_lexer": "ipython3",
   "version": "3.11.5"
  }
 },
 "nbformat": 4,
 "nbformat_minor": 1
}

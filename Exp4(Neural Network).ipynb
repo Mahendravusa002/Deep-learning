{
 "cells": [
  {
   "cell_type": "code",
   "execution_count": 26,
   "id": "c3f9e18b",
   "metadata": {},
   "outputs": [
    {
     "name": "stdout",
     "output_type": "stream",
     "text": [
      "Epoch 0, Loss: 0.07177177283206063\n",
      "Epoch 100, Loss: 0.07177177283206063\n",
      "Epoch 200, Loss: 0.07177177283206063\n",
      "Epoch 300, Loss: 0.07177177283206063\n",
      "Epoch 400, Loss: 0.07177177283206063\n",
      "Epoch 500, Loss: 0.07177177283206063\n",
      "Epoch 600, Loss: 0.07177177283206063\n",
      "Epoch 700, Loss: 0.07177177283206063\n",
      "Epoch 800, Loss: 0.07177177283206063\n",
      "Epoch 900, Loss: 0.07177177283206063\n",
      "Predicted Output: [[0.70681539]]\n"
     ]
    }
   ],
   "source": [
    "import numpy as np\n",
    "\n",
    "class NeuralNetwork:\n",
    "    def __init__(self, input_size, hidden_size, output_size):\n",
    "        self.weights_input_hidden = np.random.rand(input_size, hidden_size)\n",
    "        self.bias_hidden = np.zeros((1, hidden_size))\n",
    "        self.weights_hidden_output = np.random.rand(hidden_size, output_size)\n",
    "        self.bias_output = np.zeros((1, output_size))\n",
    "        self.predicted_output = None  # Initialize predicted_output attribute\n",
    "\n",
    "    def sigmoid(self, x):\n",
    "        return 1 / (1 + np.exp(-x))\n",
    "\n",
    "    def sigmoid_derivative(self, x):\n",
    "        return x * (1 - x)\n",
    "\n",
    "    def forward(self, inputs):\n",
    "        self.hidden_layer_activation = np.dot(inputs, self.weights_input_hidden) + self.bias_hidden\n",
    "        self.hidden_layer_output = self.sigmoid(self.hidden_layer_activation)\n",
    "        self.output_layer_activation = np.dot(self.hidden_layer_output, self.weights_hidden_output) + self.bias_output\n",
    "        self.predicted_output = self.sigmoid(self.output_layer_activation)\n",
    "        return self.predicted_output\n",
    "\n",
    "    def backward(self, inputs, targets, learning_rate):\n",
    "        error = targets - self.predicted_output\n",
    "        output_delta = error * self.sigmoid_derivative(self.predicted_output)\n",
    "        hidden_layer_error = output_delta.dot(self.weights_hidden_output.T)\n",
    "        hidden_layer_delta = hidden_layer_error * self.sigmoid_derivative(self.hidden_layer_output)\n",
    "        self.weights_hidden_output += self.hidden_layer_output.T.dot(output_delta) * learning_rate\n",
    "        self.bias_output += np.sum(output_delta, axis=0, keepdims=True) * learning_rate\n",
    "        self.weights_input_hidden += inputs.T.dot(hidden_layer_delta) * learning_rate\n",
    "        self.bias_hidden += np.sum(hidden_layer_delta, axis=0, keepdims=True) * learning_rate\n",
    "\n",
    "    def train(self, inputs, targets, epochs, learning_rate):\n",
    "        for epoch in range(epochs):\n",
    "            for i in range(len(inputs)):\n",
    "                input_data = np.array([inputs[i]])\n",
    "                target_data = np.array([targets[i]])\n",
    "                self.forward(input_data)  # Call forward to calculate predicted_output\n",
    "            if epoch % 100 == 0:\n",
    "                loss = np.mean(np.square(targets - self.predicted_output))\n",
    "                print(f\"Epoch {epoch}, Loss: {loss}\")\n",
    "\n",
    "# Sample input and target data\n",
    "input_size = 2\n",
    "hidden_size = 4\n",
    "output_size = 1\n",
    "epochs = 1000\n",
    "learning_rate = 0.1\n",
    "X = np.array([[0.1, 0.4],\n",
    "              [0.4, 0.7],\n",
    "              [0.6, 0.9],\n",
    "              [0.8, 0.5]])\n",
    "y = np.array([[0.3],\n",
    "              [0.6],\n",
    "              [0.8],\n",
    "              [0.4]])\n",
    "\n",
    "# Create and train the neural network\n",
    "nn = NeuralNetwork(input_size, hidden_size, output_size)\n",
    "nn.train(X, y, epochs, learning_rate)\n",
    "\n",
    "# Test with new data\n",
    "new_data = np.array([[0.8, 0.2]])\n",
    "predicted_output = nn.forward(new_data)\n",
    "print(\"Predicted Output:\", predicted_output)\n"
   ]
  },
  {
   "cell_type": "code",
   "execution_count": null,
   "id": "c2853592",
   "metadata": {},
   "outputs": [],
   "source": [
    "    "
   ]
  },
  {
   "cell_type": "code",
   "execution_count": null,
   "id": "3955bdad",
   "metadata": {},
   "outputs": [],
   "source": []
  }
 ],
 "metadata": {
  "kernelspec": {
   "display_name": "Python 3 (ipykernel)",
   "language": "python",
   "name": "python3"
  },
  "language_info": {
   "codemirror_mode": {
    "name": "ipython",
    "version": 3
   },
   "file_extension": ".py",
   "mimetype": "text/x-python",
   "name": "python",
   "nbconvert_exporter": "python",
   "pygments_lexer": "ipython3",
   "version": "3.11.5"
  }
 },
 "nbformat": 4,
 "nbformat_minor": 5
}
